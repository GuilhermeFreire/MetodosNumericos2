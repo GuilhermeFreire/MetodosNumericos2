{
 "cells": [
  {
   "cell_type": "markdown",
   "metadata": {},
   "source": [
    "# Exercícios relativos à Aula 4\n",
    "\n",
    "Essa aula foi inteiramente dedicada à resolução do exercício a seguir.\n",
    "\n",
    "1. Sabendo as distâncias par a par de N cidades, construa um mapa 2D que melhor represente a localização dessas cidades\n",
    "    - Dica: Pode não ser possível construir um mapa que respeite todas as distâncias. Qual seria a melhor aproximação? Qual seria a aproximação que minimiza o erro das distâncias?\n",
    "    - Dica: Tente primeiro resolver o problema em 1D. Que valores na reta as cidades deveriam ter para que possuam as distâncias providas entre si?"
   ]
  }
 ],
 "metadata": {
  "kernelspec": {
   "display_name": "Python 3",
   "language": "python",
   "name": "python3"
  },
  "language_info": {
   "codemirror_mode": {
    "name": "ipython",
    "version": 3
   },
   "file_extension": ".py",
   "mimetype": "text/x-python",
   "name": "python",
   "nbconvert_exporter": "python",
   "pygments_lexer": "ipython3",
   "version": "3.6.0"
  }
 },
 "nbformat": 4,
 "nbformat_minor": 2
}
