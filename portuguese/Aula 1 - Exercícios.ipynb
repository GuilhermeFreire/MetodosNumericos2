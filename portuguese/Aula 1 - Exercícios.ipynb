{
 "cells": [
  {
   "cell_type": "markdown",
   "metadata": {},
   "source": [
    "# Exercícios relativos à Aula 1\n",
    "\n",
    "1. Encontrar a equação de Mínimos Quadrados usando cálculo vetorial\n",
    "    - Dica: $$\\newcommand{\\norm}[1]{\\left\\lVert#1\\right\\rVert} \\min_{x} \\norm{Ax - b}^2$$\n",
    "2. Encontrar o escalar $c$ que minimize $$\\min_{c} \\norm{a - cv}^2$$\n",
    "3. Procurar um conjunto de dados para trabalhar ao longo do curso (como a matriz dos senadores)."
   ]
  }
 ],
 "metadata": {
  "kernelspec": {
   "display_name": "Python 3",
   "language": "python",
   "name": "python3"
  },
  "language_info": {
   "codemirror_mode": {
    "name": "ipython",
    "version": 3
   },
   "file_extension": ".py",
   "mimetype": "text/x-python",
   "name": "python",
   "nbconvert_exporter": "python",
   "pygments_lexer": "ipython3",
   "version": "3.5.2"
  }
 },
 "nbformat": 4,
 "nbformat_minor": 2
}
