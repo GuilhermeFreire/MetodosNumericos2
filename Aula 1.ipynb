{
 "cells": [
  {
   "cell_type": "markdown",
   "metadata": {},
   "source": [
    "# Métodos Numéricos 2\n",
    "\n",
    "### Professor João Paixão\n",
    "\n",
    "### Livros:\n",
    " - Numerical Algorithms por Justin Solomon\n",
    " - Numerical Lingear Algebra por Trefethen"
   ]
  },
  {
   "cell_type": "markdown",
   "metadata": {},
   "source": [
    "# Aula 1\n",
    "## Problema\n",
    "\n",
    "Temos dados sobre a votação de 85 senadores em 60 votações.\n",
    "Isso constitui uma matriz 85x60, na qual cada linha representa um senador e cada coluna uma votação.\n",
    "Cada célula possui um valor 1, 0 ou -1 dependendo de como o senador votou em determinada votação.\n",
    "\n",
    "$$\n",
    "    Senadores \\bigg \\{ \n",
    "    \\overbrace{\n",
    "    \\begin{bmatrix}\n",
    "          &   &  \\\\\n",
    "          &   & \n",
    "    \\end{bmatrix}\n",
    "    }^\\text{Votações}\n",
    "$$\n",
    "\n",
    "O objetivo é transformar essa matriz em uma ordenação entre os senadores e tentar tirar algum significado dessa representação 1D dos dados."
   ]
  },
  {
   "cell_type": "markdown",
   "metadata": {},
   "source": [
    "Inicialmente não é óbvio como devemos proceder, pensemos, então, em uma versão simplificada primeiro.\n",
    "\n",
    "Esquecendo a semântica do problema, vamos nos concentrar no problema de traduzir uma lista de pontos com coordenadas reais em 2D para uma ordenação em uma linha.\n",
    "Nesse caso, obteremos uma matriz Nx2.\n",
    "Como estamos em 2D, podemos visualizá-la sem muita dificuldade."
   ]
  },
  {
   "cell_type": "code",
   "execution_count": 1,
   "metadata": {},
   "outputs": [
    {
     "data": {
      "image/png": "[encoded data removed]",
      "text/plain": [
       "<matplotlib.figure.Figure at 0x10f1e35f8>"
      ]
     },
     "metadata": {},
     "output_type": "display_data"
    }
   ],
   "source": [
    "import matplotlib.pyplot as plt\n",
    "import numpy as np\n",
    "\n",
    "#Reduzimos a quantidade\n",
    "N = 10\n",
    "\n",
    "data = np.random.rand(N,2)\n",
    "\n",
    "plt.scatter(data[:,0], data[:,1])\n",
    "plt.show()"
   ]
  },
  {
   "cell_type": "markdown",
   "metadata": {},
   "source": [
    "Uma ideia interessante é tratar um pouco os dados antes de começarmos a trabalhar com eles.\n",
    "\n",
    "Podemos por exemplo, centralizá-los em torno da origem."
   ]
  },
  {
   "cell_type": "code",
   "execution_count": 2,
   "metadata": {},
   "outputs": [
    {
     "data": {
      "image/png": "[encoded data removed]",
      "text/plain": [
       "<matplotlib.figure.Figure at 0x110898f28>"
      ]
     },
     "metadata": {},
     "output_type": "display_data"
    }
   ],
   "source": [
    "center = np.average(data, axis=0)\n",
    "\n",
    "#Centered data\n",
    "c_data = data - center\n",
    "\n",
    "plt.scatter(c_data[:,0], c_data[:,1])\n",
    "\n",
    "#Plotting the origin\n",
    "plt.scatter([0], [0], marker=\"+\")\n",
    "plt.show()"
   ]
  },
  {
   "cell_type": "markdown",
   "metadata": {},
   "source": [
    "Agora, com os dados centralizados em torno da origem, temos diversas maneiras de achar uma reta para usar como base para nossa ordenação.\n",
    "\n",
    "Uma ideia imediata é usar a técnica de mínimos quadrados para gerar a reta."
   ]
  },
  {
   "cell_type": "code",
   "execution_count": 15,
   "metadata": {},
   "outputs": [
    {
     "data": {
      "image/png": "[encoded data removed]",
      "text/plain": [
       "<matplotlib.figure.Figure at 0x111444748>"
      ]
     },
     "metadata": {},
     "output_type": "display_data"
    }
   ],
   "source": [
    "s = lambda x: np.sum((x[0] - np.average(x[0]))*(x[1] - np.average(x[1]))) / (x[0].shape[0] - 1)\n",
    "\n",
    "angular_coef = s((c_data[:,0], c_data[:,1])) / s((c_data[:,0], c_data[:,0]))\n",
    "linear_coef = np.average(c_data[:,1]) - angular_coef*np.average(c_data[:,0])\n",
    "f_line = lambda x: x * angular_coef + linear_coef\n",
    "\n",
    "line_x = np.linspace(np.min(c_data[:,0])*1.1, np.max(c_data[:,0])*1.1, 1000)\n",
    "line_y = f_line(line_x)\n",
    "\n",
    "#Plotting\n",
    "plt.scatter(c_data[:,0], c_data[:,1])\n",
    "\n",
    "#Plotting line\n",
    "plt.plot(line_x, line_y, c=\"g\")\n",
    "\n",
    "#Plotting the origin\n",
    "plt.scatter([0], [0], marker=\"+\")\n",
    "\n",
    "plt.show()"
   ]
  },
  {
   "cell_type": "markdown",
   "metadata": {},
   "source": [
    "Podemos agora usar a projeção dos pontos nessa reta para criar a nossa ordenação.\n",
    "\n",
    "Entretanto, talvez essa escolha para gerar a reta não seja tão adequada.\n",
    "Afinal, quando usamos mínimos quadrados, estamos querendo minimizar o erro em apenas uma dimensão. Isso significa que estamos priorizando uma dimensão em relação às outras. No caso dos votos, estaríamos dizendo que uma votação tem uma importância maior para ordenação dos senadores do que as outras. Isso não é desejável, uma vez que queremos um modo de reduzir a dimensionalidade de qualquer tipo de dado desprovido de sentido semântico."
   ]
  },
  {
   "cell_type": "code",
   "execution_count": 14,
   "metadata": {},
   "outputs": [
    {
     "data": {
      "image/png": "[encoded data removed]",
      "text/plain": [
       "<matplotlib.figure.Figure at 0x1115202e8>"
      ]
     },
     "metadata": {},
     "output_type": "display_data"
    }
   ],
   "source": [
    "plt.figure(figsize=(6,6))\n",
    "#Plotting errors\n",
    "for point in c_data:\n",
    "    plt.plot([point[0]]*2, [point[1], f_line(point[0])], c=\"r\")\n",
    "\n",
    "#Plotting\n",
    "plt.scatter(c_data[:,0], c_data[:,1])\n",
    "\n",
    "#Plotting line\n",
    "plt.plot(line_x, line_y, c=\"g\")\n",
    "\n",
    "#Plotting the origin\n",
    "plt.scatter([0], [0], marker=\"+\")\n",
    "    \n",
    "plt.show()"
   ]
  },
  {
   "cell_type": "markdown",
   "metadata": {},
   "source": [
    "Uma escolha mais interessante seria escolher a reta que minimiza as distâncias ortogonais à reta em vez de distâncias na direção de uma das dimensões."
   ]
  },
  {
   "cell_type": "code",
   "execution_count": 12,
   "metadata": {},
   "outputs": [
    {
     "data": {
      "image/png": "[encoded data removed]",
      "text/plain": [
       "<matplotlib.figure.Figure at 0x110fd47f0>"
      ]
     },
     "metadata": {},
     "output_type": "display_data"
    }
   ],
   "source": [
    "#Plotting orthogonal distance\n",
    "line_dir = np.array([1, angular_coef])\n",
    "line_dir /= np.linalg.norm(line_dir)\n",
    "\n",
    "plt.figure(figsize=(6,6))\n",
    "for point in c_data:\n",
    "    end_point = point.T.dot(line_dir) * line_dir\n",
    "    plt.plot([point[0], end_point[0]], [point[1], end_point[1]], c=\"r\")\n",
    "    \n",
    "#Plotting\n",
    "\n",
    "plt.scatter(c_data[:,0], c_data[:,1])\n",
    "\n",
    "#Plotting line\n",
    "plt.plot(line_x, line_y, c=\"g\")\n",
    "\n",
    "#Plotting the origin\n",
    "plt.scatter([0], [0], marker=\"+\")\n",
    "    \n",
    "plt.show()"
   ]
  },
  {
   "cell_type": "markdown",
   "metadata": {},
   "source": [
    "Formalizando o problema então, ficamos com:\n",
    "\n",
    "Dados os pontos  $a_1, a_2, a_3, ..., a_N$\n",
    "\n",
    "Queremos encontrar um vetor unitário $v$ que minimize a soma das distâncias ortogonais dos pontos em relação à reta que ele descreve.\n",
    "\n",
    "$$\\min_{v} \\sum_{i = 1}^{N}{\\lVert d_i \\rVert}$$\n",
    "\n",
    "Podemos expandir essa expressão para deixar claro o que realmente queremos minimizar.\n",
    "\n",
    "$$\\min_{v} \\sum_{i = 1}^{N}{\\lVert a_i - ({a_i}^{T} v)v \\rVert^2}$$\n",
    "\n",
    "Manipulando um pouco a expressão, podemos chegar a um resultado mais limpo.\n",
    "\n",
    "$$\\min_{v} \\sum_{i = 1}^{N}{\\lVert a_i - ({a_i}^{T} v)v \\rVert^2}$$\n",
    "\n",
    "$$\\min_{v} \\sum_{i = 1}^{N}{(a_i - ({a_i}^{T} v)v)^T(a_i - ({a_i}^{T} v)v)}$$\n",
    "\n",
    "$$\\min_{v} \\sum_{i = 1}^{N}{({a_i}^T - ({a_i}^{T} v)v^T)(a_i - ({a_i}^{T} v)v)}$$\n",
    "\n",
    "$$\\min_{v} \\sum_{i = 1}^{N}{{a_i}^T a_i - 2({a_i}^T v)({a_i}^T v) + ({a_i}^T v)^2 v^T v}$$\n",
    "\n",
    "$$\\min_{v} \\sum_{i = 1}^{N}{{a_i}^T a_i - ({a_i}^T v)^2 v^T v}$$\n",
    "\n",
    "Usando o fato de $v$ ser unitário, podemos tirar a última parte da expressão\n",
    "\n",
    "$$\\min_{v} \\sum_{i = 1}^{N}{{a_i}^T a_i - ({a_i}^T v)^2}$$\n",
    "\n",
    "Como o termo ${a_i}^T a_i$ aparece em todas as parcelas e não depende de $v$, podemos eliminá-lo também\n",
    "\n",
    "$$\\min_{v} \\sum_{i = 1}^{N}{- ({a_i}^T v)^2}$$\n",
    "\n",
    "Finalmente, podemos tirar o sinal de negativo e transformar esse problema em um de maximização\n",
    "\n",
    "$$\\max_{v} \\sum_{i = 1}^{N}{({a_i}^T v)^2}$$\n",
    "\n",
    "Essa última forma também possui uma interpretação semântica interessante. Ela indica que o problema de minimizar as distâncias é equivalente ao de maximizar as projeções dos pontos na reta."
   ]
  },
  {
   "cell_type": "markdown",
   "metadata": {},
   "source": [
    "Podemos escrever esse resultado em notação matricial.\n",
    "\n",
    "$$\n",
    "\\newcommand{\\norm}[1]{\\left\\lVert#1\\right\\rVert}\n",
    "  \\max_{\\substack{v \\\\ \\norm{v} = 1}}\n",
    "\\norm{ \\begin{bmatrix}\n",
    "    {a_1}^Tv \\\\\n",
    "    {a_2}^Tv \\\\\n",
    "    \\vdots \\\\\n",
    "    {a_N}^Tv\n",
    "    \\end{bmatrix} }^2\n",
    "$$\n",
    "$$\n",
    "    \\max_{\\substack{v \\\\ \\norm{v} = 1}}\n",
    "    \\norm{\n",
    "    \\underbrace{\n",
    "    \\begin{bmatrix}\n",
    "    {a_1}^T \\\\\n",
    "    {a_2}^T \\\\\n",
    "    \\vdots \\\\\n",
    "    {a_N}^T\n",
    "    \\end{bmatrix}\n",
    "    }_\\text{A}\n",
    "    *\n",
    "    \\begin{bmatrix}\n",
    "      \\\\\n",
    "    v \\\\\n",
    "      \\\\\n",
    "    \\end{bmatrix}}^2\n",
    "$$\n",
    "Ficamos então com o problema:\n",
    "$$\\max_{\\substack{v \\\\ \\norm{v} = 1}}\\norm{Av}^2$$\n",
    "\n",
    "Com isso, podemos definir uma função $f = \\norm{Av}^2$.\n",
    "\n",
    "Agora, tudo o que devemos fazer é maximizar $f$ de acordo com as restrições.\n",
    "\n",
    "Mas como fazer isso?"
   ]
  },
  {
   "cell_type": "markdown",
   "metadata": {},
   "source": [
    "Uma forma seria tirar o gradiente da função. Com essa informação conseguimos encontrar os pontos críticos, e escolher o que maximiza a função dentre eles."
   ]
  },
  {
   "cell_type": "markdown",
   "metadata": {},
   "source": [
    "### Cálculo em notação vetorial\n",
    "Para facilitar o cálculo de gradientes em notação vetorial, vale a pena fazermos alguns exemplos mais simples antes.\n",
    "\n",
    "Comecemos com uma função linear simples:\n",
    "$$f(v) = c^Tv$$\n",
    "\n",
    "Queremos agora calcular o gradiente $\\nabla_v f$. Se expandirmos a expressão acima, fica mais fácil de enxergar o gradiente.\n",
    "\n",
    "$$f(v) = c_1*v_1 + c_2*v_2 + c_3*v_3 + \\cdots + c_n*v_n$$\n",
    "\n",
    "$$\n",
    "    \\nabla_v f(v) = \n",
    "    \\begin{bmatrix}\n",
    "    \\frac{\\partial}{\\partial v_1} (c_1*v_1 + c_2*v_2 + c_3*v_3 + \\cdots + c_n*v_n) \\\\\n",
    "    \\frac{\\partial}{\\partial v_2} (c_1*v_1 + c_2*v_2 + c_3*v_3 + \\cdots + c_n*v_n) \\\\\n",
    "    \\vdots \\\\ \n",
    "    \\frac{\\partial}{\\partial v_n} (c_1*v_1 + c_2*v_2 + c_3*v_3 + \\cdots + c_n*v_n) \\\\\n",
    "    \\end{bmatrix}\n",
    "$$\n",
    "\n",
    "$$\n",
    "    \\nabla_v f(v) = \n",
    "    \\begin{bmatrix}\n",
    "    c_1 \\\\\n",
    "    c_2 \\\\\n",
    "    \\vdots \\\\ \n",
    "    c_n\n",
    "    \\end{bmatrix}\n",
    "$$\n",
    "\n",
    "$$\n",
    "    \\nabla_v f(v) = c\n",
    "$$\n",
    "\n",
    "Tomemos um exemplo um pouco mais complexo: uma expressão quadrática.\n",
    "\n",
    "$$\n",
    "   f(v) = v^TMv \n",
    "$$\n",
    "\n",
    "Nesse exemplo, $M$ é uma matriz 2x2 arbitrária.\n",
    "\n",
    "$$\n",
    "    f(v) =\n",
    "    \\begin{bmatrix}\n",
    "        v_1 & v_2\n",
    "    \\end{bmatrix}\n",
    "    \\begin{bmatrix}\n",
    "        m_{11} & m_{12} \\\\\n",
    "        m_{21} & m_{22}\n",
    "    \\end{bmatrix}\n",
    "    \\begin{bmatrix}\n",
    "        v_1 \\\\ v_2\n",
    "    \\end{bmatrix}\n",
    "$$\n",
    "\n",
    "$$\n",
    "    f(v) =\n",
    "    \\begin{bmatrix}\n",
    "        v_1 m_{11} + v_2 m_{21} & v_1 m_{12} + v_2 m_{22}\n",
    "    \\end{bmatrix}\n",
    "    \\begin{bmatrix}\n",
    "        v_1 \\\\ v_2\n",
    "    \\end{bmatrix}\n",
    "$$\n",
    "\n",
    "$$\n",
    "    f(v) = (v_1 m_{11} + v_2 m_{21})v_1 + (v_1 m_{12} + v_2 m_{22})v_2 \n",
    "    \\\\\n",
    "    f(v) = v_1^2 m_{11} + v_1v_2 m_{21} + v_1 v_2 m_{12} + v_2^2 m_{22}\n",
    "$$\n",
    "\n",
    "Calculemos, agora, o gradiente.\n",
    "\n",
    "$$\n",
    "    \\nabla_v f(v) =\n",
    "    \\begin{bmatrix}\n",
    "        \\frac{\\partial}{\\partial v_1} (v_1^2 m_{11} + v_1v_2 m_{21} + v_1 v_2 m_{12} + v_2^2 m_{22}) \\\\\n",
    "        \\frac{\\partial}{\\partial v_2} (v_1^2 m_{11} + v_1v_2 m_{21} + v_1 v_2 m_{12} + v_2^2 m_{22}) \\\\\n",
    "    \\end{bmatrix}\n",
    "$$\n",
    "\n",
    "$$\n",
    "    \\nabla_v f(v) =\n",
    "    \\begin{bmatrix}\n",
    "        2 v_1 m_{11} + v_2 m_{21} + v_2 m_{12} \\\\\n",
    "        v_1 m_{21} + v_1 m_{12} + 2 v_2 m_{22}\n",
    "    \\end{bmatrix}\n",
    "$$\n",
    "\n",
    "$$\n",
    "    \\nabla_v f(v) =     \n",
    "    \\begin{bmatrix}\n",
    "        m_{11} + m_{11} & m_{21} + m_{12} \\\\\n",
    "        m_{21} + m_{12} & m_{22} + m_{22} \n",
    "    \\end{bmatrix}\n",
    "    \\begin{bmatrix}\n",
    "        v_1 \\\\\n",
    "        v_2\n",
    "    \\end{bmatrix}\n",
    "$$\n",
    "\n",
    "$$\n",
    "    \\nabla_v f(v) = (M + M^T)v\n",
    "$$\n",
    "\n",
    "Uma característica interessante de se notar é o fato de podermos simplificar o resultado caso a matriz em questão seja simétrica.\n",
    "\n",
    "$$\n",
    "    \\nabla_v f(v) = 2Mv\n",
    "$$"
   ]
  },
  {
   "cell_type": "markdown",
   "metadata": {},
   "source": [
    "Voltemos ao problema.\n",
    "\n",
    "Temos a nossa função $f = \\norm{Av}^2$. Podemos expandir essa expressão\n",
    "\n",
    "$$\n",
    "    f = v^T A^T A v\n",
    "$$\n",
    "\n",
    "Usemos a ferramenta que desenvolvemos anteriormente para tirar o gradiente dessa função.\n",
    "\n",
    "$$\n",
    "    \\nabla_v f = (A^TA + (A^TA)^T)v \\\\\n",
    "    \\nabla_v f = (A^TA + A^TA)v \\\\\n",
    "    \\nabla_v f = 2(A^TA)v\n",
    "$$\n",
    "\n",
    "Pronto. Basta igualarmos a expressão a zero, certo? Quase. Se simplesmente igualarmos a zero, não estaremos levando em consideração a restrição do problema: $\\norm{v} = 1$."
   ]
  },
  {
   "cell_type": "markdown",
   "metadata": {},
   "source": [
    "Como resolver essa questão?"
   ]
  }
 ],
 "metadata": {
  "kernelspec": {
   "display_name": "Python 3",
   "language": "python",
   "name": "python3"
  },
  "language_info": {
   "codemirror_mode": {
    "name": "ipython",
    "version": 3
   },
   "file_extension": ".py",
   "mimetype": "text/x-python",
   "name": "python",
   "nbconvert_exporter": "python",
   "pygments_lexer": "ipython3",
   "version": "3.6.0"
  }
 },
 "nbformat": 4,
 "nbformat_minor": 2
}
