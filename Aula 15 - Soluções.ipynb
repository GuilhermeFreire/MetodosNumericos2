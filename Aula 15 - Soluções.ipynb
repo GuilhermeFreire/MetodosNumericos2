{
 "cells": [
  {
   "cell_type": "markdown",
   "metadata": {},
   "source": [
    "# Soluções relativas aos execícios da Aula 15"
   ]
  },
  {
   "cell_type": "markdown",
   "metadata": {},
   "source": [
    "## Exercício 1\n",
    "\n",
    "Implementar o método de Newton em alta dimensão"
   ]
  },
  {
   "cell_type": "markdown",
   "metadata": {},
   "source": [
    "Comecemos com um exemplo simples para encontrarmos o zero da função."
   ]
  },
  {
   "cell_type": "code",
   "execution_count": 6,
   "metadata": {},
   "outputs": [
    {
     "data": {
      "image/png": "[encoded data removed]",
      "text/plain": [
       "<matplotlib.figure.Figure at 0x7f66ceb0c048>"
      ]
     },
     "metadata": {},
     "output_type": "display_data"
    }
   ],
   "source": [
    "import numpy as np\n",
    "import matplotlib.pyplot as plt\n",
    "\n",
    "x = np.linspace(-2, 2, 100)\n",
    "\n",
    "f1 = lambda x: x**4 - 3*x**3 + 4*x - 1\n",
    "df1 = lambda x: 4*x**3 - 9*x**2 + 4\n",
    "\n",
    "y = f1(x)\n",
    "zero = np.zeros_like(x)\n",
    "plt.plot(x, y)\n",
    "plt.plot(x, zero, c=\"black\")\n",
    "plt.show()"
   ]
  },
  {
   "cell_type": "markdown",
   "metadata": {},
   "source": [
    "Prosseguimos implementando o Método de Newton 2D para encontrar algum zero dessa função."
   ]
  },
  {
   "cell_type": "code",
   "execution_count": 38,
   "metadata": {
    "collapsed": true
   },
   "outputs": [],
   "source": [
    "def find_zero2D(init_guess, f, df, it=1000):\n",
    "    guesses = [init_guess]\n",
    "    for i in range(it):\n",
    "        guesses.append(guesses[-1] - f(guesses[-1])/df(guesses[-1]))\n",
    "    return np.array(guesses)"
   ]
  },
  {
   "cell_type": "markdown",
   "metadata": {},
   "source": [
    "Experimentemos com três inicializações diferentes para ver para quais zeros de função elas convergem."
   ]
  },
  {
   "cell_type": "code",
   "execution_count": 54,
   "metadata": {},
   "outputs": [
    {
     "data": {
      "image/png": "[encoded data removed]",
      "text/plain": [
       "<matplotlib.figure.Figure at 0x7f66ceba3748>"
      ]
     },
     "metadata": {},
     "output_type": "display_data"
    }
   ],
   "source": [
    "###################################################\n",
    "np.random.seed(1)\n",
    "init_guess = np.random.rand(1)*4 - 2\n",
    "guesses = find_zero2D(init_guess, f1, df1)\n",
    "\n",
    "plt.plot(x, y, zorder=1)\n",
    "plt.plot(x, zero, c=\"black\", zorder=2)\n",
    "plt.scatter(guesses, f1(guesses), c=\"green\", zorder=3)\n",
    "\n",
    "# plt.show()\n",
    "###################################################\n",
    "np.random.seed(4)\n",
    "init_guess = np.random.rand(1)*4 - 2\n",
    "guesses = find_zero2D(init_guess, f1, df1)\n",
    "\n",
    "# plt.plot(x, y, zorder=1)\n",
    "# plt.plot(x, zero, c=\"black\", zorder=2)\n",
    "plt.scatter(guesses, f1(guesses), c=\"orange\", zorder=3)\n",
    "\n",
    "# plt.show()\n",
    "\n",
    "\n",
    "###################################################\n",
    "np.random.seed(7)\n",
    "init_guess = np.random.rand(1)*4 - 2\n",
    "guesses = find_zero2D(init_guess, f1, df1)\n",
    "\n",
    "# plt.plot(x, y, zorder=1)\n",
    "# plt.plot(x, zero, c=\"black\", zorder=2)\n",
    "plt.scatter(guesses, f1(guesses), c=\"red\", zorder=3)\n",
    "\n",
    "plt.show()"
   ]
  },
  {
   "cell_type": "markdown",
   "metadata": {},
   "source": [
    "Podemos obsvervar que dependendo de onde escolhemos o chute inicial, acabamos encontrando um valor diferente de zero de função. Nesse caso, os pontos vermelhos convergem para o zero da esquerda, os verdes para o do meio e os laranjas para o da direita.\n",
    "\n",
    "Seria interessante ter mapeado que pontos levam para que zeros no gráfico todo."
   ]
  },
  {
   "cell_type": "code",
   "execution_count": 62,
   "metadata": {
    "collapsed": true
   },
   "outputs": [],
   "source": [
    "def plot_decision_boundary(pred_func):\n",
    "    # Set min and max values and give it some padding\n",
    "    x_min, x_max = x.min() - .5, x.max() + .5\n",
    "    y_min, y_max = y.min() - .5, y.max() + .5\n",
    "    h = 0.01\n",
    "    # Generate a grid of points with distance h between them\n",
    "    xx, yy = np.meshgrid(np.arange(x_min, x_max, h), np.arange(y_min, y_max, h))\n",
    "    # Predict the function value for the whole gid\n",
    "    Z = pred_func(xx.ravel(), yy.ravel())\n",
    "    Z = Z.reshape(xx.shape)\n",
    "    # Plot the contour and training examples\n",
    "    plt.contourf(xx, yy, Z, cmap=plt.cm.Spectral)\n",
    "    plt.plot(x, y)"
   ]
  },
  {
   "cell_type": "code",
   "execution_count": 66,
   "metadata": {},
   "outputs": [],
   "source": [
    "def pred(x, y):\n",
    "    np.random.seed(1)\n",
    "    init_guess = np.random.rand(1)*4 - 2\n",
    "    z1 = find_zero2D(init_guess, f1, df1)[-1]\n",
    "    \n",
    "    np.random.seed(4)\n",
    "    init_guess = np.random.rand(1)*4 - 2\n",
    "    z2 = find_zero2D(init_guess, f1, df1)[-1]\n",
    "    \n",
    "    np.random.seed(7)\n",
    "    init_guess = np.random.rand(1)*4 - 2\n",
    "    z3 = find_zero2D(init_guess, f1, df1)[-1]\n",
    "    \n",
    "    classes = []\n",
    "    for i in x:\n",
    "        zero_found = find_zero2D(i, f1, df1)\n",
    "        classes.append(np.argmin([np.absolute(z1 - zero_found), np.absolute(z2 - zero_found), np.absolute(z3 - zero_found)]))\n",
    "    return np.array(classes)"
   ]
  },
  {
   "cell_type": "code",
   "execution_count": null,
   "metadata": {},
   "outputs": [],
   "source": [
    "plot_decision_boundary(pred)"
   ]
  },
  {
   "cell_type": "code",
   "execution_count": null,
   "metadata": {
    "collapsed": true
   },
   "outputs": [],
   "source": []
  }
 ],
 "metadata": {
  "kernelspec": {
   "display_name": "Python 3",
   "language": "python",
   "name": "python3"
  },
  "language_info": {
   "codemirror_mode": {
    "name": "ipython",
    "version": 3
   },
   "file_extension": ".py",
   "mimetype": "text/x-python",
   "name": "python",
   "nbconvert_exporter": "python",
   "pygments_lexer": "ipython3",
   "version": "3.5.2"
  }
 },
 "nbformat": 4,
 "nbformat_minor": 2
}
