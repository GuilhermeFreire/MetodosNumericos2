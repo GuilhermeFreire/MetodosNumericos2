{
 "cells": [
  {
   "cell_type": "markdown",
   "metadata": {},
   "source": [
    "#  Soluções relativas aos exercícios da Aula 8"
   ]
  },
  {
   "cell_type": "markdown",
   "metadata": {},
   "source": [
    "## Exercício 2\n",
    "\n",
    "Implementar o método da potência para encontrar autovalores de matrizes simétricas."
   ]
  },
  {
   "cell_type": "code",
   "execution_count": 8,
   "metadata": {},
   "outputs": [
    {
     "name": "stdout",
     "output_type": "stream",
     "text": [
      "v0 = [ 0.42300581  0.90612697] λ0 = 1.21991124313\n",
      "v1 = [ 0.90612697 -0.42300581] λ1 = 0.0121814582525\n"
     ]
    }
   ],
   "source": [
    "import numpy as np\n",
    "import matplotlib.pyplot as plt\n",
    "from copy import deepcopy\n",
    "from numpy.linalg import norm\n",
    "\n",
    "def find_single_eig(matrix):\n",
    "    v = np.zeros(matrix.shape[0])\n",
    "    v[0] = 1\n",
    "    history = []\n",
    "    for i in range(1000):\n",
    "        history.append(v)\n",
    "        v = matrix.dot(v)\n",
    "        v /= norm(v)\n",
    "    val = v.dot(matrix.dot(v))\n",
    "    history.append(v)\n",
    "    return val, v, history\n",
    "\n",
    "def find_eig(matrix):\n",
    "    vecs = []\n",
    "    vals = []\n",
    "    mod_M = deepcopy(matrix)\n",
    "    for i in range(matrix.shape[0]):\n",
    "        v_temp = find_single_eig(mod_M)\n",
    "        vals.append(v_temp[0])\n",
    "        vecs.append(v_temp[1])\n",
    "        mod_M -= mod_M.dot(np.outer(v_temp[1],v_temp[1].T))\n",
    "    return vals, np.array(vecs)\n",
    "\n",
    "np.random.seed(1234)\n",
    "M = np.random.rand(2,2)\n",
    "M = M.T.dot(M)\n",
    "\n",
    "vals, vecs = find_eig(M)\n",
    "for i in range(vecs.shape[0]):\n",
    "    print(\"v\"+ str(i) +\" =\", vecs[i], \"λ\"+ str(i) +\" =\", vals[i])"
   ]
  },
  {
   "cell_type": "code",
   "execution_count": 2,
   "metadata": {},
   "outputs": [
    {
     "name": "stdout",
     "output_type": "stream",
     "text": [
      "[[ 1.          0.        ]\n",
      " [ 0.44228683  0.89687366]\n",
      " [ 0.42319934  0.9060366 ]\n",
      " [ 0.42300774  0.90612607]\n",
      " [ 0.42300583  0.90612696]\n",
      " [ 0.42300581  0.90612697]\n",
      " [ 0.42300581  0.90612697]\n",
      " [ 0.42300581  0.90612697]\n",
      " [ 0.42300581  0.90612697]\n",
      " [ 0.42300581  0.90612697]]\n"
     ]
    },
    {
     "data": {
      "image/png": "[encoded data removed]",
      "text/plain": [
       "<matplotlib.figure.Figure at 0x10d8a3470>"
      ]
     },
     "metadata": {},
     "output_type": "display_data"
    }
   ],
   "source": [
    "h = find_single_eig(M)\n",
    "h = np.array(h[2])\n",
    "print(h[:10])\n",
    "plt.scatter(h[:,0], h[:,1])\n",
    "plt.show()"
   ]
  },
  {
   "cell_type": "markdown",
   "metadata": {},
   "source": [
    "## Exercício 1\n",
    "\n",
    "Implementar a decomposição SVD de uma matriz."
   ]
  },
  {
   "cell_type": "code",
   "execution_count": 31,
   "metadata": {},
   "outputs": [
    {
     "name": "stdout",
     "output_type": "stream",
     "text": [
      "U =  [[ 0.92171286 -0.38787293]\n",
      " [ 0.98228756 -0.1873797 ]\n",
      " [ 0.8589367   0.51208178]]\n",
      "\n",
      "\n",
      "Σ =  [[ 1.64361973  0.        ]\n",
      " [ 0.          0.27114196]]\n",
      "\n",
      "\n",
      "Vt =  [[ 0.64189765  0.76679033]\n",
      " [ 0.76679033 -0.64189765]]\n",
      "\n",
      "\n",
      "M2 = [[ 0.19151945  0.62210877]\n",
      " [ 0.43772774  0.78535858]\n",
      " [ 0.77997581  0.27259261]]\n",
      "\n",
      "\n",
      "UΣVt= [[ 0.89179763  1.229153  ]\n",
      " [ 0.99739045  1.27060109]\n",
      " [ 1.01267526  0.9934025 ]]\n"
     ]
    }
   ],
   "source": [
    "def svd(matrix):\n",
    "    valsV, Vt = find_eig(matrix.T.dot(matrix))\n",
    "    U = matrix.dot(Vt)\n",
    "    for i in range(U.shape[1]):\n",
    "        U[:]\n",
    "    Σ = np.diag(valsV)\n",
    "    Σ = np.sqrt(Σ[:U.shape[0], :Vt.shape[0]])\n",
    "    return U, Σ, Vt\n",
    "\n",
    "np.random.seed(1234)\n",
    "M2 = np.random.rand(3,2)\n",
    "decomp = svd(M2)\n",
    "print(\"U = \", decomp[0])\n",
    "print(\"\\n\")\n",
    "print(\"Σ = \", decomp[1])\n",
    "print(\"\\n\")\n",
    "print(\"Vt = \", decomp[2])\n",
    "print(\"\\n\")\n",
    "print(\"M2 =\",M2)\n",
    "print(\"\\n\")\n",
    "print(\"UΣVt=\",decomp[0].dot(decomp[1].dot(decomp[2])))"
   ]
  },
  {
   "cell_type": "code",
   "execution_count": 23,
   "metadata": {},
   "outputs": [
    {
     "data": {
      "text/plain": [
       "array([[ 1.,  2.,  3.],\n",
       "       [ 4.,  5.,  6.],\n",
       "       [ 7.,  8.,  9.]])"
      ]
     },
     "execution_count": 23,
     "metadata": {},
     "output_type": "execute_result"
    }
   ],
   "source": [
    "np.sqrt(np.array([[1,4,9],[16,25,36],[49,64,81]]))"
   ]
  }
 ],
 "metadata": {
  "kernelspec": {
   "display_name": "Python 3",
   "language": "python",
   "name": "python3"
  },
  "language_info": {
   "codemirror_mode": {
    "name": "ipython",
    "version": 3
   },
   "file_extension": ".py",
   "mimetype": "text/x-python",
   "name": "python",
   "nbconvert_exporter": "python",
   "pygments_lexer": "ipython3",
   "version": "3.6.0"
  }
 },
 "nbformat": 4,
 "nbformat_minor": 2
}
