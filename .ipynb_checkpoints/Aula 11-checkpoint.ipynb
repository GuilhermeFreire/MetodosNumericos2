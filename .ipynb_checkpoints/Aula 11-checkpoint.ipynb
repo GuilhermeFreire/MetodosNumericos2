{
 "cells": [
  {
   "cell_type": "markdown",
   "metadata": {},
   "source": [
    "## Aula 11\n",
    "\n",
    "Para que serve mínimos quadrados?\n",
    "\n",
    "Simplificadamente, usamos a técnica de mínimos quadrados para resolver sistemas sem solução.\n",
    "\n",
    "Como vimos anteriormente, queremos resolver o sistema $Ax = b$, entretanto, devido à impossibilidade de tal feito, nos satifazemos com uma aproximação.\n",
    "\n",
    "$$\n",
    "    Ax \\approx b\n",
    "$$\n",
    "\n",
    "Para obtermos a melhor aproximação, vimos que queremos minimizar $f$.\n",
    "$$\n",
    "    \\newcommand{\\norm}[1]{\\left\\lVert#1\\right\\rVert}\n",
    "    \\min f(x) = \\norm{Ax - b}^2_{2 (\\leftarrow \\text{norma euclidiana})}\\\\\n",
    "    f(x) = (Ax - b)^T (Ax - b)\\\\\n",
    "    f(x) = x^T A^T A x - (2Ax)^T b + b^T b\n",
    "$$\n",
    "\n",
    "E o gradiente de $f$ se dá por:\n",
    "\n",
    "$$\n",
    "    \\nabla f(x) = 2A^T Ax - 2A^T b\n",
    "$$\n",
    "\n",
    "Ao igualar o gradiente a $0$, temos:\n",
    "\n",
    "$$\n",
    "    \\nabla f(x) = 0\n",
    "    A^T A = A^T b\n",
    "$$\n",
    "\n",
    "Agora podemos nos perguntar se esse novo sistema tem solução única. Podemos ainda perguntar se $A^T A$ tem inversa.\n",
    "Mais do que isso, o que o gradiente igualado a $0$ nos indica são os pontos críticos da função. Não sabemos se é um mínimo necessariamente. Como efetivamente achar um mínimo? Ele é um mínimo lobal ou global?"
   ]
  },
  {
   "cell_type": "markdown",
   "metadata": {},
   "source": [
    "Neste caso específico do mínimos quadrados, estamos lidando com o equivalente ao paraboloide elíptico em alta dimensão com concavidade para cima. Sabendo disso, podemos ter confiança que o ponto crítico encontrado na igualdade gradiente com $0$ é o mínimo global."
   ]
  },
  {
   "cell_type": "markdown",
   "metadata": {},
   "source": [
    "Para respondermos a pergunta da inversibilidade de $A$, precisamos primeiro provar um teorema.\n",
    "\n",
    "<u>__Teorema:__</u>\n",
    "$$N(A^T A) = N(A)$$\n",
    "Equivale a dizer\n",
    "$$A^TAx = \\bar{0} \\iff Ax = \\bar{0}$$\n",
    "\n",
    "<u>__Prova:__</u>\n",
    "\n",
    "Volta ($Ax = \\bar{0} \\Rightarrow A^TAx = \\bar{0} $):\n",
    "$$\n",
    "    Ax = \\bar{0} \\\\\n",
    "    \\Rightarrow A^T Ax = A^T \\bar{0} \\\\\n",
    "    \\Rightarrow A^TAx = \\bar{0}\n",
    "$$\n",
    "\n",
    "Ida ($A^TAx = \\bar{0} \\Rightarrow Ax = \\bar{0}$):\n",
    "$$\n",
    "    A^T Ax = \\bar{0} \\\\\n",
    "    \\Rightarrow x^TA^TAx = x^T\\bar{0} \\\\\n",
    "    \\Rightarrow (Ax)^TAx = 0 \\\\\n",
    "    \\Rightarrow \\norm{Ax}^2 = 0 \\\\\n",
    "    \\Rightarrow Ax = \\bar{0}\n",
    "$$"
   ]
  },
  {
   "cell_type": "markdown",
   "metadata": {},
   "source": [
    "Portanto se $N(A) = \\emptyset$ então $N(A^T A) = \\emptyset$ também.\n",
    "\n",
    "Sabemos que $A^T A$ é quadrada, então $A^T A$ é não singular.\n",
    "\n",
    "Se as colunas de A forem linearmente independentes, então $(A^TA)^{-1}$ existe.\n",
    "\n",
    "Lembrando que $A$ é uma matriz de Vandermonde.\n",
    "\n",
    "$$\n",
    "    A =\n",
    "    \\begin{bmatrix}\n",
    "       1 & x_0 & x_0^2 \\\\\n",
    "       1 & x_1 & x_1^2 \\\\\n",
    "         & \\vdots & \\\\\n",
    "       1 & x_n & x_n^2\n",
    "    \\end{bmatrix}\n",
    "$$"
   ]
  },
  {
   "cell_type": "markdown",
   "metadata": {},
   "source": [
    "Agora imagine que queremos passar uma parábola sobre alguns pontos.\n",
    "\n",
    "$$y = a_0 + a_1 x + a_2 x^2$$"
   ]
  },
  {
   "cell_type": "code",
   "execution_count": 1,
   "metadata": {},
   "outputs": [
    {
     "data": {
      "image/png": "[encoded data removed]",
      "text/plain": [
       "<matplotlib.figure.Figure at 0x1039ba860>"
      ]
     },
     "metadata": {},
     "output_type": "display_data"
    }
   ],
   "source": [
    "import numpy as np\n",
    "import matplotlib.pyplot as plt\n",
    "\n",
    "pts = np.array([[-1, 0], [1, 0]])\n",
    "x = np.linspace(-2, 2, 100)\n",
    "y1 = 2*x**2 - 2\n",
    "y2 = x**2 - 1\n",
    "y3 = np.zeros_like(x)\n",
    "\n",
    "plt.plot(x, y1)\n",
    "plt.plot(x, y2)\n",
    "plt.plot(x, y3)\n",
    "plt.scatter(pts[:,0], pts[:,1], c=\"red\")\n",
    "plt.show()"
   ]
  },
  {
   "cell_type": "markdown",
   "metadata": {},
   "source": [
    "Qual das parábolas é a melhor?\n",
    "\n",
    "O que significa ser a melhor?\n",
    "\n",
    "Podemos argumentar que, como apenas uma reta é necessária para passarmos perfeitamente pelos pontos, o ideal seria contrar uma parábola com $a_2 = 0$.\n",
    "\n",
    "O que queremos é minimizar o impacto de $a_2$.\n",
    "\n",
    "$$\n",
    "      \\min_{\\substack{y = a_0 + a_1 x + a_2 x^2}}\n",
    "    \\norm{a_2}\n",
    "$$\n",
    "\n",
    "Da mesma forma, se houvesse três pontos pertencentes a uma reta, gostaríamos que $a_3$ também fosse $0$.\n",
    "\n",
    "De forma mais geral, gostaríamos de minimizar os pesos das potências de $x$ maiores que o necessário para os dados em questão."
   ]
  },
  {
   "cell_type": "markdown",
   "metadata": {},
   "source": [
    "Mais genericamente, podemos aplicar essa ideia a qualquer sistema:\n",
    "$$\n",
    "    \\min_{Ax=b} \\norm{x}_2\n",
    "$$"
   ]
  },
  {
   "cell_type": "markdown",
   "metadata": {},
   "source": [
    "De forma geométrica, podemos imaginar que temos um espaço de soluções para o nosso sistema e gostaríamos de pegar a solução que tiver o menor módulo.\n",
    "\n",
    "Visualizemos isso considerando que o espaço de soluções é uma reta, por exemplo."
   ]
  },
  {
   "cell_type": "code",
   "execution_count": 2,
   "metadata": {},
   "outputs": [
    {
     "data": {
      "image/png": "[encoded data removed]",
      "text/plain": [
       "<matplotlib.figure.Figure at 0x1039ba2e8>"
      ]
     },
     "metadata": {},
     "output_type": "display_data"
    }
   ],
   "source": [
    "XO = np.zeros(5)\n",
    "YO = np.zeros(5)\n",
    "XD = np.linspace(0, 2, 5)\n",
    "YD = -XD + 2\n",
    "plt.plot([0, 2], [2, 0])\n",
    "for xo, yo, xd, yd in zip(XO, YO, XD, YD):\n",
    "    plt.arrow(xo-0.025, yo-0.025, xd, yd, head_width=0.05, head_length=0.05, fc='k', ec='k')\n",
    "\n",
    "plt.show()"
   ]
  },
  {
   "cell_type": "markdown",
   "metadata": {},
   "source": [
    "Dessa técnica decorre diretamente a *Regularização de Tikhonov*.\n",
    "\n",
    "Essa técnica de regularização visa priorizar as soluções com normas menores. Ela se dá através da seguinte expressão.\n",
    "\n",
    "$$\n",
    "    \\min \\norm{Ax - b}^2 + \\alpha \\norm{x}^2\n",
    "$$\n",
    "\n",
    "Trabalhando um pouco mais na expressão, conseguimos um resultado mais interessante.\n",
    "\n",
    "$$\n",
    "    f(x) = x^T A^T Ax -2(Ax)^Tb + b^T b + \\alpha x^T x\n",
    "$$\n",
    "\n",
    "$$\n",
    "    \\nabla f(x) = 2(A^T A)x - 2A^T b + 2\\alpha x\n",
    "$$\n",
    "\n",
    "$$\n",
    "    \\nabla f(x) = 0 \\\\\n",
    "    0 = 2(A^T A)x - 2A^T b + 2\\alpha x \\\\\n",
    "    2(A^T A)x + 2\\alpha x = 2A^T b \\\\\n",
    "    (A^T A + \\alpha I)x = A^T b\n",
    "$$\n",
    "\n",
    "Com a equação final, podemos simplesmente resolver um sistema linear e contrar a solução que melhor balanceia acurácia das equações do sistema original com a magnitude do vetor solução."
   ]
  }
 ],
 "metadata": {
  "kernelspec": {
   "display_name": "Python 3",
   "language": "python",
   "name": "python3"
  },
  "language_info": {
   "codemirror_mode": {
    "name": "ipython",
    "version": 3
   },
   "file_extension": ".py",
   "mimetype": "text/x-python",
   "name": "python",
   "nbconvert_exporter": "python",
   "pygments_lexer": "ipython3",
   "version": "3.6.0"
  }
 },
 "nbformat": 4,
 "nbformat_minor": 2
}
