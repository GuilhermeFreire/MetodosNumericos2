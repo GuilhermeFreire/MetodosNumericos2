{
 "cells": [
  {
   "cell_type": "markdown",
   "metadata": {},
   "source": [
    "# Exercícios relativos à Aula 10\n",
    "\n",
    "1. Encontrar o sinal correto dos auto valores descobertos com o algoritmo QR.\n",
    "2. Encontrar os auto vetores com o algoritmo QR.\n",
    "3. Implementar o algoritmo QR para encontrar auto valores."
   ]
  }
 ],
 "metadata": {
  "kernelspec": {
   "display_name": "Python 3",
   "language": "python",
   "name": "python3"
  },
  "language_info": {
   "codemirror_mode": {
    "name": "ipython",
    "version": 3
   },
   "file_extension": ".py",
   "mimetype": "text/x-python",
   "name": "python",
   "nbconvert_exporter": "python",
   "pygments_lexer": "ipython3",
   "version": "3.5.2"
  }
 },
 "nbformat": 4,
 "nbformat_minor": 2
}
