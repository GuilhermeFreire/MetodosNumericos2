{
 "cells": [
  {
   "cell_type": "markdown",
   "metadata": {},
   "source": [
    "# Achando coordenadas a partir de distâncias\n",
    "\n",
    "### #1: Três pontos em 1D\n",
    "\n",
    "Tomemos um exemplo simples com os pontos 0, 2 e 4 em uma reta."
   ]
  },
  {
   "cell_type": "code",
   "execution_count": 5,
   "metadata": {},
   "outputs": [
    {
     "data": {
      "image/png": "[encoded data removed]",
      "text/plain": [
       "<matplotlib.figure.Figure at 0x10b8e75c0>"
      ]
     },
     "metadata": {},
     "output_type": "display_data"
    }
   ],
   "source": [
    "import numpy as np\n",
    "import matplotlib.pyplot as plt\n",
    "\n",
    "ans = np.array([0, 2, 4])\n",
    "\n",
    "plt.plot([-5, 5], [0, 0])\n",
    "plt.scatter(ans, np.zeros(ans.shape))\n",
    "plt.show()"
   ]
  },
  {
   "cell_type": "markdown",
   "metadata": {},
   "source": [
    "Como não sabemos se existe uma solução exata para o problema, uma boa saída é usar uma abordagem de minimização de erro.\n",
    "\n",
    "O erro nesse caso seria calculado por\n",
    "\n",
    "$$\n",
    "    \\min \\sum_i^3 \\sum_{j|j>i}^3 ((\\lambda_i - \\lambda_j)^2 - d_{ij}^2)^2\n",
    "$$\n",
    "\n",
    "Podemos simplificar o problema se fixarmos um dos pontos na origem - por exemplo $\\lambda_i$.\n",
    "\n",
    "$$\n",
    "    \\min (\\lambda_2^2 - d_{12}^2)^2 + (\\lambda_3^2 - d_{13}^2)^2 + ((\\lambda_2 - \\lambda_3)^2 - d_{23}^2)^2\n",
    "$$\n",
    "\n",
    "Onde $\\lambda_i$ representa o calor de cada ponto na reta real.\n",
    "\n",
    "Podemos chamar de f a função que queremos minimizar e em seguida tirar seu gradiente para utilizar na minimização.\n",
    "\n",
    "$$\n",
    "    f = \\sum_i^3 \\sum_j^3 ((\\lambda_i - \\lambda_j)^2 - d_{ij}^2)^2\n",
    "$$\n",
    "\n"
   ]
  }
 ],
 "metadata": {
  "kernelspec": {
   "display_name": "Python 3",
   "language": "python",
   "name": "python3"
  },
  "language_info": {
   "codemirror_mode": {
    "name": "ipython",
    "version": 3
   },
   "file_extension": ".py",
   "mimetype": "text/x-python",
   "name": "python",
   "nbconvert_exporter": "python",
   "pygments_lexer": "ipython3",
   "version": "3.6.0"
  }
 },
 "nbformat": 4,
 "nbformat_minor": 2
}
