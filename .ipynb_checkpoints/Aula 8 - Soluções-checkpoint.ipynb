{
 "cells": [
  {
   "cell_type": "markdown",
   "metadata": {},
   "source": [
    "#  Soluções relativas aos exercícios da Aula 8"
   ]
  },
  {
   "cell_type": "markdown",
   "metadata": {},
   "source": [
    "## Exercício 1\n",
    "\n",
    "Implementar a decomposição SVD de uma matriz."
   ]
  },
  {
   "cell_type": "code",
   "execution_count": 37,
   "metadata": {
    "collapsed": true
   },
   "outputs": [],
   "source": [
    "import numpy as np\n",
    "import matplotlib.pyplot as plt\n",
    "from copy import deepcopy\n",
    "\n"
   ]
  },
  {
   "cell_type": "markdown",
   "metadata": {},
   "source": [
    "## Exercício 2\n",
    "\n",
    "Implementar o método da potência para encontrar autovalores de matrizes simétricas."
   ]
  },
  {
   "cell_type": "code",
   "execution_count": 35,
   "metadata": {},
   "outputs": [
    {
     "name": "stdout",
     "output_type": "stream",
     "text": [
      "v1 = [ 0.42300581  0.90612697] λ1 = 1.21991124313\n",
      "v2 = [ 0.90612697 -0.42300581] λ2 = 0.0121814582525\n",
      "[ 0.01218146  1.21991124]\n",
      "[[-0.90612697 -0.42300581]\n",
      " [ 0.42300581 -0.90612697]]\n",
      "0.721923514523\n"
     ]
    },
    {
     "data": {
      "image/png": "[encoded data removed]",
      "text/plain": [
       "<matplotlib.figure.Figure at 0x11368d3c8>"
      ]
     },
     "metadata": {},
     "output_type": "display_data"
    },
    {
     "data": {
      "image/png": "[encoded data removed]",
      "text/plain": [
       "<matplotlib.figure.Figure at 0x1139f29e8>"
      ]
     },
     "metadata": {},
     "output_type": "display_data"
    }
   ],
   "source": [
    "norm = lambda x: np.linalg.norm(x)\n",
    "\n",
    "def find_single_eig(matrix):\n",
    "    v = np.zeros(matrix.shape[0])\n",
    "    v[0] = 1\n",
    "    for i in range(1000):\n",
    "#         print(v)\n",
    "        v = matrix.dot(v)\n",
    "        v /= norm(v)\n",
    "    val = v.dot(M.dot(v))\n",
    "    return val, v\n",
    "\n",
    "def find_eig(matrix):\n",
    "    vecs = []\n",
    "    vals = []\n",
    "    mod_M = matrix\n",
    "    for i in range(matrix.shape[0]):\n",
    "        \n",
    "\n",
    "np.random.seed(1234)\n",
    "M = np.random.rand(2,2)\n",
    "M = M.T.dot(M)\n",
    "λ1, v1 = find_single_eig(M)\n",
    "v1_check = M.dot(v1)\n",
    "print(\"v1 =\", v1, \"λ1 =\", λ1)\n",
    "\n",
    "M2 = M.dot(np.identity(M.shape[0]) - np.outer(v1, v1.T))\n",
    "λ2, v2 = find_single_eig(M2)\n",
    "v2_check = M.dot(v2)\n",
    "print(\"v2 =\", v2, \"λ2 =\", λ2)\n",
    "\n",
    "eig_vals, eig_vecs = np.linalg.eig(M)\n",
    "print(eig_vals)\n",
    "print(eig_vecs)\n",
    "print(eig_vecs[0].dot(M.dot(eig_vecs[0])))\n",
    "\n",
    "#met pot\n",
    "plt.plot([0, v1[0]], [0, v1[1]])\n",
    "plt.plot([0, v2[0]], [0, v2[1]])\n",
    "plt.show()\n",
    "\n",
    "plt.plot([0, eig_vecs[1][0]], [0, eig_vecs[1][1]])\n",
    "plt.plot([0, eig_vecs[0][0]], [0, eig_vecs[0][1]])\n",
    "plt.show()"
   ]
  }
 ],
 "metadata": {
  "kernelspec": {
   "display_name": "Python 3",
   "language": "python",
   "name": "python3"
  },
  "language_info": {
   "codemirror_mode": {
    "name": "ipython",
    "version": 3
   },
   "file_extension": ".py",
   "mimetype": "text/x-python",
   "name": "python",
   "nbconvert_exporter": "python",
   "pygments_lexer": "ipython3",
   "version": "3.6.0"
  }
 },
 "nbformat": 4,
 "nbformat_minor": 2
}
