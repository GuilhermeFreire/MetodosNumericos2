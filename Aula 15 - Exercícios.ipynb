{
 "cells": [
  {
   "cell_type": "markdown",
   "metadata": {},
   "source": [
    "# Exercícios relativos à Aula 15\n",
    "\n",
    "1. Programar o Método de Newton em alta dimensão.\n",
    "    - Fazer exemplo de $\\mathbb{R}^2 \\to \\mathbb{R}^2$\n",
    "2. Mostrar que regiões que convergem para quais zeros (ou sej divergem).\n",
    "3. Fazer um exemplo de um polinômio de $\\mathbb{R}^{N} \\to \\mathbb{R}^{N}$, e.g. $N$ = 100"
   ]
  }
 ],
 "metadata": {
  "kernelspec": {
   "display_name": "Python 3",
   "language": "python",
   "name": "python3"
  },
  "language_info": {
   "codemirror_mode": {
    "name": "ipython",
    "version": 3
   },
   "file_extension": ".py",
   "mimetype": "text/x-python",
   "name": "python",
   "nbconvert_exporter": "python",
   "pygments_lexer": "ipython3",
   "version": "3.5.2"
  }
 },
 "nbformat": 4,
 "nbformat_minor": 2
}
