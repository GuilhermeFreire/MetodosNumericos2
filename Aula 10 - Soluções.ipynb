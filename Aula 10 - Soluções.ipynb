{
 "cells": [
  {
   "cell_type": "markdown",
   "metadata": {},
   "source": [
    "# Soluções relativas aos execícios da Aula 10"
   ]
  },
  {
   "cell_type": "markdown",
   "metadata": {},
   "source": [
    "## Exercício 3\n",
    "\n",
    "Implementar o algoritmo de encontrar auto valores usando a decomposição QR"
   ]
  },
  {
   "cell_type": "code",
   "execution_count": 1,
   "metadata": {},
   "outputs": [
    {
     "name": "stdout",
     "output_type": "stream",
     "text": [
      "[[ 0.3830389   1.40746735  0.71419199]\n",
      " [ 1.40746735  1.55995162  1.07446478]\n",
      " [ 0.71419199  1.07446478  1.91627871]]\n",
      "\n",
      "[-3.52909764 -0.88420795 -0.55403637]\n"
     ]
    }
   ],
   "source": [
    "import numpy as np\n",
    "\n",
    "def eig_qr(matrix, iterations=100):\n",
    "    temp = matrix.copy()\n",
    "    for i in range(iterations):\n",
    "        Q, R = np.linalg.qr(temp)\n",
    "        temp = R.dot(Q)\n",
    "    return np.diag(R)\n",
    "\n",
    "np.random.seed(1234)\n",
    "A = np.random.rand(3,3)\n",
    "A = A + A.T\n",
    "eig_vals = eig_qr(A)\n",
    "print(A, end=\"\\n\\n\")\n",
    "print(eig_vals)"
   ]
  }
 ],
 "metadata": {
  "kernelspec": {
   "display_name": "Python 3",
   "language": "python",
   "name": "python3"
  },
  "language_info": {
   "codemirror_mode": {
    "name": "ipython",
    "version": 3
   },
   "file_extension": ".py",
   "mimetype": "text/x-python",
   "name": "python",
   "nbconvert_exporter": "python",
   "pygments_lexer": "ipython3",
   "version": "3.5.2"
  }
 },
 "nbformat": 4,
 "nbformat_minor": 2
}
